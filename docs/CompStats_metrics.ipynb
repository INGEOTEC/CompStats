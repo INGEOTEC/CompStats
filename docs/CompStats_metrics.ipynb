{
  "nbformat": 4,
  "nbformat_minor": 0,
  "metadata": {
    "colab": {
      "provenance": []
    },
    "kernelspec": {
      "name": "python3",
      "display_name": "Python 3"
    },
    "language_info": {
      "name": "python"
    }
  },
  "cells": [
    {
      "cell_type": "markdown",
      "source": [
        "<p><img alt=\"Colaboratory logo\" height=\"50px\" src=\"https://github.com/INGEOTEC/text_models/raw/master/docs/source/ingeotec.png\" align=\"left\" hspace=\"10px\" vspace=\"0px\" /></p>\n",
        "\n",
        "# CompStats.metrics\n",
        "## Quickstart Guide\n",
        "\n",
        "### <http://compstats.readthedocs.org>\n"
      ],
      "metadata": {
        "id": "9tXZR4hZ2jdf"
      }
    },
    {
      "cell_type": "markdown",
      "source": [
        "## Installing CompStats"
      ],
      "metadata": {
        "id": "FZ57oNPm2qLs"
      }
    },
    {
      "cell_type": "markdown",
      "source": [
        "First, we need to install CompStats. This can be quickly done through pip, the Python package manager."
      ],
      "metadata": {
        "id": "W53AmtM423gh"
      }
    },
    {
      "cell_type": "code",
      "execution_count": null,
      "metadata": {
        "id": "I1B4Ktin2VfE"
      },
      "outputs": [],
      "source": [
        "try:\n",
        "  import CompStats\n",
        "except ImportError:\n",
        "    !pip install Compstats\n",
        "    # !pip install -U git+https://github.com/INGEOTEC/CompStats@develop"
      ]
    },
    {
      "cell_type": "markdown",
      "source": [
        "# CompStats.metrics"
      ],
      "metadata": {
        "id": "uN4SNyGE3Fmh"
      }
    },
    {
      "cell_type": "markdown",
      "source": [
        "`CompStats.metrics` aims to facilitate performance measurement (with standard errors and confidence intervals) and statistical comparisons between algorithms on a single problem, wrapping the different scores and loss functions found on `metrics`.\n",
        "\n",
        "To illustrate the use of `CompStats.metrics`, the following snippets show an example. The instructions load the necessary libraries, including the one to obtain the problem (e.g., digits), four different classifiers, and the last line is the score used to measure the performance and compare the algorithm."
      ],
      "metadata": {
        "id": "ZyRCAFoJ3LzP"
      }
    },
    {
      "cell_type": "code",
      "source": [
        "from sklearn.svm import LinearSVC\n",
        "from sklearn.naive_bayes import GaussianNB\n",
        "from sklearn.ensemble import RandomForestClassifier, HistGradientBoostingClassifier\n",
        "from sklearn.datasets import load_digits\n",
        "from sklearn.model_selection import train_test_split\n",
        "from sklearn.base import clone\n",
        "from CompStats.metrics import f1_score"
      ],
      "metadata": {
        "id": "jEpd52Kq214r"
      },
      "execution_count": 12,
      "outputs": []
    },
    {
      "cell_type": "markdown",
      "source": [
        "The first step is to load the digits problem and split the dataset into training and validation sets. The second step is to estimate the parameters of a linear Support Vector Machine and predict the validation set's classes. The predictions are stored in the variable `hy`."
      ],
      "metadata": {
        "id": "TxaP-fJ23YvG"
      }
    },
    {
      "cell_type": "code",
      "source": [
        "X, y = load_digits(return_X_y=True)\n",
        "_ = train_test_split(X, y, test_size=0.3)\n",
        "X_train, X_val, y_train, y_val = _\n",
        "m = LinearSVC().fit(X_train, y_train)\n",
        "hy = m.predict(X_val)"
      ],
      "metadata": {
        "id": "JGJczaOW3WeK"
      },
      "execution_count": 13,
      "outputs": []
    },
    {
      "cell_type": "markdown",
      "source": [
        "Once the predictions are available, it is time to measure the algorithm's performance, as seen in the following code. It is essential to note that the API used in `metrics` is followed; the difference is that the function returns an instance with different methods that can be used to estimate different performance statistics and compare algorithms."
      ],
      "metadata": {
        "id": "wmFDblVe3eLm"
      }
    },
    {
      "cell_type": "code",
      "source": [
        "score = f1_score(y_val, hy, average='macro')\n",
        "score"
      ],
      "metadata": {
        "colab": {
          "base_uri": "https://localhost:8080/"
        },
        "id": "Al0u9ZPB3cSj",
        "outputId": "6eb7e800-b835-46af-84d8-16c3ad214d58"
      },
      "execution_count": 14,
      "outputs": [
        {
          "output_type": "stream",
          "name": "stderr",
          "text": [
            "100%|██████████| 1/1 [00:00<00:00,  1.03it/s]\n"
          ]
        },
        {
          "output_type": "execute_result",
          "data": {
            "text/plain": [
              "<Perf(score_func=f1_score, statistic=0.9521, se=0.0097)>"
            ]
          },
          "metadata": {},
          "execution_count": 14
        }
      ]
    },
    {
      "cell_type": "markdown",
      "source": [
        "The previous code shows the macro-f1 score and, in parenthesis, its standard error. The actual performance value is stored in the attributes `statistic` function, and `se`."
      ],
      "metadata": {
        "id": "OV5-SrTh3loq"
      }
    },
    {
      "cell_type": "code",
      "source": [
        "score.statistic, score.se"
      ],
      "metadata": {
        "colab": {
          "base_uri": "https://localhost:8080/"
        },
        "id": "Ye1HH4pn3jde",
        "outputId": "3c7c9e30-06fa-4e62-b0ea-6eb53012af01"
      },
      "execution_count": 15,
      "outputs": [
        {
          "output_type": "execute_result",
          "data": {
            "text/plain": [
              "(0.9521479775366307, 0.009717884979482313)"
            ]
          },
          "metadata": {},
          "execution_count": 15
        }
      ]
    },
    {
      "cell_type": "markdown",
      "source": [
        "Continuing with the example, let us assume that one wants to test another classifier on the same problem, in this case, a random forest, as can be seen in the following two lines. The second line predicts the validation set and sets it to the analysis."
      ],
      "metadata": {
        "id": "BZho0vEB3q9G"
      }
    },
    {
      "cell_type": "code",
      "source": [
        "ens = RandomForestClassifier().fit(X_train, y_train)\n",
        "score(ens.predict(X_val), name='Random Forest')"
      ],
      "metadata": {
        "colab": {
          "base_uri": "https://localhost:8080/"
        },
        "id": "vboh7N9B3pDr",
        "outputId": "73b9de04-f3b7-4a17-d2a7-09dc453c8f4e"
      },
      "execution_count": 16,
      "outputs": [
        {
          "output_type": "stream",
          "name": "stderr",
          "text": [
            "100%|██████████| 1/1 [00:00<00:00,  1.03it/s]\n"
          ]
        },
        {
          "output_type": "execute_result",
          "data": {
            "text/plain": [
              "<Perf(score_func=f1_score)>\n",
              "Statistic with its standard error (se)\n",
              "statistic (se)\n",
              "0.9720 (0.0076) <= Random Forest\n",
              "0.9521 (0.0097) <= alg-1"
            ]
          },
          "metadata": {},
          "execution_count": 16
        }
      ]
    },
    {
      "cell_type": "markdown",
      "source": [
        "Let us incorporate another predictions, now with Naive Bayes classifier, and Histogram Gradient Boosting as seen below."
      ],
      "metadata": {
        "id": "v2R8F5H73vuc"
      }
    },
    {
      "cell_type": "code",
      "source": [
        "nb = GaussianNB().fit(X_train, y_train)\n",
        "score(nb.predict(X_val), name='Naive Bayes')\n",
        "hist = HistGradientBoostingClassifier().fit(X_train, y_train)\n",
        "score(hist.predict(X_val), name='Hist. Grad. Boost. Tree')"
      ],
      "metadata": {
        "colab": {
          "base_uri": "https://localhost:8080/"
        },
        "id": "pVOaQb0T3tyN",
        "outputId": "a38ce6fe-cadd-4f85-d127-423d66c2947b"
      },
      "execution_count": 17,
      "outputs": [
        {
          "output_type": "stream",
          "name": "stderr",
          "text": [
            "100%|██████████| 2/2 [00:02<00:00,  1.00s/it]\n"
          ]
        },
        {
          "output_type": "execute_result",
          "data": {
            "text/plain": [
              "<Perf(score_func=f1_score)>\n",
              "Statistic with its standard error (se)\n",
              "statistic (se)\n",
              "0.9759 (0.0068) <= Hist. Grad. Boost. Tree\n",
              "0.9720 (0.0076) <= Random Forest\n",
              "0.9521 (0.0097) <= alg-1\n",
              "0.8266 (0.0159) <= Naive Bayes"
            ]
          },
          "metadata": {},
          "execution_count": 17
        }
      ]
    },
    {
      "cell_type": "markdown",
      "source": [
        "The performance, its confidence interval (5\\%), and a statistical comparison (5\\%) between the best performing system with the rest of the algorithms is depicted in the following figure."
      ],
      "metadata": {
        "id": "EY2NX9twUWjQ"
      }
    },
    {
      "cell_type": "code",
      "source": [
        "score.plot()"
      ],
      "metadata": {
        "colab": {
          "base_uri": "https://localhost:8080/",
          "height": 523
        },
        "id": "5hxPgZY-UXCc",
        "outputId": "068f61bb-e52a-48b3-a0bb-d37eab65b299"
      },
      "execution_count": 18,
      "outputs": [
        {
          "output_type": "execute_result",
          "data": {
            "text/plain": [
              "<seaborn.axisgrid.FacetGrid at 0x7e3d79665250>"
            ]
          },
          "metadata": {},
          "execution_count": 18
        },
        {
          "output_type": "display_data",
          "data": {
            "text/plain": [
              "<Figure size 623.75x500 with 1 Axes>"
            ],
            "image/png": "[encoded data removed]"
          },
          "metadata": {}
        }
      ]
    },
    {
      "cell_type": "markdown",
      "source": [
        "The final step is to compare the performance of the four classifiers, which can be done with the `Perf.difference` method, as seen next.  "
      ],
      "metadata": {
        "id": "VRqHiUXN32ZX"
      }
    },
    {
      "cell_type": "code",
      "source": [
        "diff = score.difference()\n",
        "diff"
      ],
      "metadata": {
        "colab": {
          "base_uri": "https://localhost:8080/"
        },
        "id": "XWAqUpYE3za2",
        "outputId": "2804fcd4-d766-4de5-ee27-276d4d7f3324"
      },
      "execution_count": 22,
      "outputs": [
        {
          "output_type": "execute_result",
          "data": {
            "text/plain": [
              "<Difference>\n",
              "difference p-values  w.r.t Hist. Grad. Boost. Tree\n",
              "0.0000 <= Naive Bayes\n",
              "0.0100 <= alg-1\n",
              "0.3240 <= Random Forest"
            ]
          },
          "metadata": {},
          "execution_count": 22
        }
      ]
    },
    {
      "cell_type": "markdown",
      "source": [
        "The class `CompStats.Difference` has the `CompStats.Difference.plot` method that can be used to depict the difference with respectto the best."
      ],
      "metadata": {
        "id": "NnFumtpc4BBC"
      }
    },
    {
      "cell_type": "code",
      "source": [
        "diff.plot()"
      ],
      "metadata": {
        "colab": {
          "base_uri": "https://localhost:8080/",
          "height": 529
        },
        "id": "Fai01O3q3-SN",
        "outputId": "a5aaacce-74fc-42dc-86dc-09512421ffbe"
      },
      "execution_count": 23,
      "outputs": [
        {
          "output_type": "display_data",
          "data": {
            "text/plain": [
              "<Figure size 584.875x500 with 1 Axes>"
            ],
            "image/png": "[encoded data removed]"
          },
          "metadata": {}
        }
      ]
    },
    {
      "cell_type": "code",
      "source": [],
      "metadata": {
        "id": "VI3JFKudVYNI"
      },
      "execution_count": null,
      "outputs": []
    }
  ]
}