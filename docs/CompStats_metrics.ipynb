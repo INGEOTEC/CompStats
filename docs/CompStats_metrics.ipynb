{
  "nbformat": 4,
  "nbformat_minor": 0,
  "metadata": {
    "colab": {
      "provenance": []
    },
    "kernelspec": {
      "name": "python3",
      "display_name": "Python 3"
    },
    "language_info": {
      "name": "python"
    }
  },
  "cells": [
    {
      "cell_type": "markdown",
      "source": [
        "<p><img alt=\"Colaboratory logo\" height=\"50px\" src=\"https://github.com/INGEOTEC/text_models/raw/master/docs/source/ingeotec.png\" align=\"left\" hspace=\"10px\" vspace=\"0px\" /></p>\n",
        "\n",
        "# CompStats.metrics\n",
        "## Quickstart Guide\n",
        "\n",
        "### <http://compstats.readthedocs.org>\n"
      ],
      "metadata": {
        "id": "9tXZR4hZ2jdf"
      }
    },
    {
      "cell_type": "markdown",
      "source": [
        "## Installing CompStats"
      ],
      "metadata": {
        "id": "FZ57oNPm2qLs"
      }
    },
    {
      "cell_type": "markdown",
      "source": [
        "First, we need to install CompStats. This can be quickly done through pip, the Python package manager."
      ],
      "metadata": {
        "id": "W53AmtM423gh"
      }
    },
    {
      "cell_type": "code",
      "execution_count": null,
      "metadata": {
        "id": "I1B4Ktin2VfE"
      },
      "outputs": [],
      "source": [
        "try:\n",
        "  import CompStats\n",
        "except ImportError:\n",
        "    !pip install Compstats\n",
        "    # !pip install -U git+https://github.com/INGEOTEC/CompStats@develop"
      ]
    },
    {
      "cell_type": "markdown",
      "source": [
        "# CompStats.metrics"
      ],
      "metadata": {
        "id": "uN4SNyGE3Fmh"
      }
    },
    {
      "cell_type": "markdown",
      "source": [
        "`CompStats.metrics` aims to facilitate performance measurement (with standard errors and confidence intervals) and statistical comparisons between algorithms on a single problem, wrapping the different scores and loss functions found on `metrics`.\n",
        "\n",
        "To illustrate the use of `CompStats.metrics`, the following snippets show an example. The instructions load the necessary libraries, including the one to obtain the problem (e.g., digits), three different classifiers, and the last line is the score used to measure the performance and compare the algorithm."
      ],
      "metadata": {
        "id": "ZyRCAFoJ3LzP"
      }
    },
    {
      "cell_type": "code",
      "source": [
        "from sklearn.svm import LinearSVC\n",
        "from sklearn.naive_bayes import GaussianNB\n",
        "from sklearn.ensemble import RandomForestClassifier\n",
        "from sklearn.datasets import load_digits\n",
        "from sklearn.model_selection import train_test_split\n",
        "from sklearn.base import clone\n",
        "from CompStats.metrics import f1_score"
      ],
      "metadata": {
        "id": "jEpd52Kq214r"
      },
      "execution_count": 3,
      "outputs": []
    },
    {
      "cell_type": "markdown",
      "source": [
        "The first step is to load the digits problem and split the dataset into training and validation sets. The second step is to estimate the parameters of a linear Support Vector Machine and predict the validation set's classes. The predictions are stored in the variable `hy`."
      ],
      "metadata": {
        "id": "TxaP-fJ23YvG"
      }
    },
    {
      "cell_type": "code",
      "source": [
        "X, y = load_digits(return_X_y=True)\n",
        "_ = train_test_split(X, y, test_size=0.3)\n",
        "X_train, X_val, y_train, y_val = _\n",
        "m = LinearSVC().fit(X_train, y_train)\n",
        "hy = m.predict(X_val)"
      ],
      "metadata": {
        "id": "JGJczaOW3WeK"
      },
      "execution_count": 4,
      "outputs": []
    },
    {
      "cell_type": "markdown",
      "source": [
        "Once the predictions are available, it is time to measure the algorithm's performance, as seen in the following code. It is essential to note that the API used in `metrics` is followed; the difference is that the function returns an instance with different methods that can be used to estimate different performance statistics and compare algorithms."
      ],
      "metadata": {
        "id": "wmFDblVe3eLm"
      }
    },
    {
      "cell_type": "code",
      "source": [
        "score = f1_score(y_val, hy, average='macro')\n",
        "score"
      ],
      "metadata": {
        "colab": {
          "base_uri": "https://localhost:8080/"
        },
        "id": "Al0u9ZPB3cSj",
        "outputId": "21ca6ebf-e247-46e3-ed90-8ef9f86b6051"
      },
      "execution_count": 5,
      "outputs": [
        {
          "output_type": "stream",
          "name": "stderr",
          "text": [
            "100%|██████████| 1/1 [00:09<00:00,  9.58s/it]\n"
          ]
        },
        {
          "output_type": "execute_result",
          "data": {
            "text/plain": [
              "<Perf>\n",
              "Prediction statistics with standard error\n",
              "alg-1 = 0.915 (0.012)"
            ]
          },
          "metadata": {},
          "execution_count": 5
        }
      ]
    },
    {
      "cell_type": "markdown",
      "source": [
        "The previous code shows the macro-f1 score and, in parenthesis, its standard error. The actual performance value is stored in the `Perf.statistic` function."
      ],
      "metadata": {
        "id": "OV5-SrTh3loq"
      }
    },
    {
      "cell_type": "code",
      "source": [
        "score.statistic()"
      ],
      "metadata": {
        "colab": {
          "base_uri": "https://localhost:8080/"
        },
        "id": "Ye1HH4pn3jde",
        "outputId": "dfec01ff-458a-47bd-86da-18ed8b7e91fa"
      },
      "execution_count": 6,
      "outputs": [
        {
          "output_type": "execute_result",
          "data": {
            "text/plain": [
              "{'alg-1': 0.915212992793734}"
            ]
          },
          "metadata": {},
          "execution_count": 6
        }
      ]
    },
    {
      "cell_type": "markdown",
      "source": [
        "Continuing with the example, let us assume that one wants to test another classifier on the same problem, in this case, a random forest, as can be seen in the following two lines. The second line predicts the validation set and sets it to the analysis."
      ],
      "metadata": {
        "id": "BZho0vEB3q9G"
      }
    },
    {
      "cell_type": "code",
      "source": [
        "ens = RandomForestClassifier().fit(X_train, y_train)\n",
        "score(ens.predict(X_val), name='Random Forest')"
      ],
      "metadata": {
        "colab": {
          "base_uri": "https://localhost:8080/"
        },
        "id": "vboh7N9B3pDr",
        "outputId": "0855a5a9-044e-4a52-943c-3f735e4120f3"
      },
      "execution_count": 7,
      "outputs": [
        {
          "output_type": "stream",
          "name": "stderr",
          "text": [
            "100%|██████████| 1/1 [00:02<00:00,  2.72s/it]\n"
          ]
        },
        {
          "output_type": "execute_result",
          "data": {
            "text/plain": [
              "<Perf>\n",
              "Prediction statistics with standard error\n",
              "Random Forest = 0.961 (0.009)\n",
              "alg-1 = 0.915 (0.012)"
            ]
          },
          "metadata": {},
          "execution_count": 7
        }
      ]
    },
    {
      "cell_type": "markdown",
      "source": [
        "Let us incorporate another prediction, now with the Naive Bayes classifier, as seen below."
      ],
      "metadata": {
        "id": "v2R8F5H73vuc"
      }
    },
    {
      "cell_type": "code",
      "source": [
        "nb = GaussianNB().fit(X_train, y_train)\n",
        "score(nb.predict(X_val), name='Naive Bayes')"
      ],
      "metadata": {
        "colab": {
          "base_uri": "https://localhost:8080/"
        },
        "id": "pVOaQb0T3tyN",
        "outputId": "52ee2f53-0c5b-466b-f0fa-dd2c5cff72e2"
      },
      "execution_count": 8,
      "outputs": [
        {
          "output_type": "stream",
          "name": "stderr",
          "text": [
            "100%|██████████| 1/1 [00:01<00:00,  1.44s/it]\n"
          ]
        },
        {
          "output_type": "execute_result",
          "data": {
            "text/plain": [
              "<Perf>\n",
              "Prediction statistics with standard error\n",
              "Random Forest = 0.961 (0.009)\n",
              "alg-1 = 0.915 (0.012)\n",
              "Naive Bayes = 0.842 (0.016)"
            ]
          },
          "metadata": {},
          "execution_count": 8
        }
      ]
    },
    {
      "cell_type": "markdown",
      "source": [
        "The final step is to compare the performance of the three classifiers, which can be done with the `Perf.difference` method, as seen next.  "
      ],
      "metadata": {
        "id": "VRqHiUXN32ZX"
      }
    },
    {
      "cell_type": "code",
      "source": [
        "diff = score.difference()\n",
        "diff"
      ],
      "metadata": {
        "colab": {
          "base_uri": "https://localhost:8080/"
        },
        "id": "XWAqUpYE3za2",
        "outputId": "5787a783-b1f1-4cce-d538-df21b28e705c"
      },
      "execution_count": 9,
      "outputs": [
        {
          "output_type": "execute_result",
          "data": {
            "text/plain": [
              "<Difference>\n",
              "difference p-values w.r.t Random Forest\n",
              "alg-1 0.0\n",
              "Naive Bayes 0.0"
            ]
          },
          "metadata": {},
          "execution_count": 9
        }
      ]
    },
    {
      "cell_type": "markdown",
      "source": [
        "The class `CompStats.Difference` has the `CompStats.Difference.plot` method that can be used to depict the difference with respectto the best."
      ],
      "metadata": {
        "id": "NnFumtpc4BBC"
      }
    },
    {
      "cell_type": "code",
      "source": [
        "diff.plot()"
      ],
      "metadata": {
        "colab": {
          "base_uri": "https://localhost:8080/",
          "height": 547
        },
        "id": "Fai01O3q3-SN",
        "outputId": "4e941b41-2c8f-42ae-ab8d-a4465a843c82"
      },
      "execution_count": 10,
      "outputs": [
        {
          "output_type": "execute_result",
          "data": {
            "text/plain": [
              "<seaborn.axisgrid.FacetGrid at 0x7858c140d490>"
            ]
          },
          "metadata": {},
          "execution_count": 10
        },
        {
          "output_type": "display_data",
          "data": {
            "text/plain": [
              "<Figure size 584.611x500 with 1 Axes>"
            ],
            "image/png": "[encoded data removed]"
          },
          "metadata": {}
        }
      ]
    },
    {
      "cell_type": "code",
      "source": [],
      "metadata": {
        "id": "ol6Yo4k_4FdR"
      },
      "execution_count": null,
      "outputs": []
    }
  ]
}