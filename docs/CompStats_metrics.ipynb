{
  "nbformat": 4,
  "nbformat_minor": 0,
  "metadata": {
    "colab": {
      "provenance": []
    },
    "kernelspec": {
      "name": "python3",
      "display_name": "Python 3"
    },
    "language_info": {
      "name": "python"
    }
  },
  "cells": [
    {
      "cell_type": "markdown",
      "source": [
        "<p><img alt=\"Colaboratory logo\" height=\"50px\" src=\"https://github.com/INGEOTEC/text_models/raw/master/docs/source/ingeotec.png\" align=\"left\" hspace=\"10px\" vspace=\"0px\" /></p>\n",
        "\n",
        "# CompStats.metrics\n",
        "## Quickstart Guide\n",
        "\n",
        "### <http://compstats.readthedocs.org>\n"
      ],
      "metadata": {
        "id": "9tXZR4hZ2jdf"
      }
    },
    {
      "cell_type": "markdown",
      "source": [
        "## Installing CompStats"
      ],
      "metadata": {
        "id": "FZ57oNPm2qLs"
      }
    },
    {
      "cell_type": "markdown",
      "source": [
        "First, we need to install CompStats. This can be quickly done through pip, the Python package manager."
      ],
      "metadata": {
        "id": "W53AmtM423gh"
      }
    },
    {
      "cell_type": "code",
      "execution_count": 1,
      "metadata": {
        "id": "I1B4Ktin2VfE",
        "colab": {
          "base_uri": "https://localhost:8080/"
        },
        "outputId": "f9fcdc39-dd55-4fb5-f296-8e16542da8ee"
      },
      "outputs": [
        {
          "output_type": "stream",
          "name": "stdout",
          "text": [
            "Collecting git+https://github.com/INGEOTEC/CompStats@develop\n",
            "  Cloning https://github.com/INGEOTEC/CompStats (to revision develop) to /tmp/pip-req-build-0jzcmk2h\n",
            "  Running command git clone --filter=blob:none --quiet https://github.com/INGEOTEC/CompStats /tmp/pip-req-build-0jzcmk2h\n",
            "  Running command git checkout -b develop --track origin/develop\n",
            "  Switched to a new branch 'develop'\n",
            "  Branch 'develop' set up to track remote branch 'develop' from 'origin'.\n",
            "  Resolved https://github.com/INGEOTEC/CompStats to commit ee9d6cd168b6c944722150afd5d6277ef60f8dd6\n",
            "  Installing build dependencies ... \u001b[?25l\u001b[?25hdone\n",
            "  Getting requirements to build wheel ... \u001b[?25l\u001b[?25hdone\n",
            "  Preparing metadata (pyproject.toml) ... \u001b[?25l\u001b[?25hdone\n",
            "Requirement already satisfied: numpy in /usr/local/lib/python3.11/dist-packages (from CompStats==0.1.6) (1.26.4)\n",
            "Requirement already satisfied: scikit-learn>=1.3.0 in /usr/local/lib/python3.11/dist-packages (from CompStats==0.1.6) (1.6.1)\n",
            "Requirement already satisfied: pandas in /usr/local/lib/python3.11/dist-packages (from CompStats==0.1.6) (2.2.2)\n",
            "Requirement already satisfied: seaborn>=0.13.0 in /usr/local/lib/python3.11/dist-packages (from CompStats==0.1.6) (0.13.2)\n",
            "Requirement already satisfied: scipy>=1.6.0 in /usr/local/lib/python3.11/dist-packages (from scikit-learn>=1.3.0->CompStats==0.1.6) (1.13.1)\n",
            "Requirement already satisfied: joblib>=1.2.0 in /usr/local/lib/python3.11/dist-packages (from scikit-learn>=1.3.0->CompStats==0.1.6) (1.4.2)\n",
            "Requirement already satisfied: threadpoolctl>=3.1.0 in /usr/local/lib/python3.11/dist-packages (from scikit-learn>=1.3.0->CompStats==0.1.6) (3.5.0)\n",
            "Requirement already satisfied: matplotlib!=3.6.1,>=3.4 in /usr/local/lib/python3.11/dist-packages (from seaborn>=0.13.0->CompStats==0.1.6) (3.10.0)\n",
            "Requirement already satisfied: python-dateutil>=2.8.2 in /usr/local/lib/python3.11/dist-packages (from pandas->CompStats==0.1.6) (2.8.2)\n",
            "Requirement already satisfied: pytz>=2020.1 in /usr/local/lib/python3.11/dist-packages (from pandas->CompStats==0.1.6) (2025.1)\n",
            "Requirement already satisfied: tzdata>=2022.7 in /usr/local/lib/python3.11/dist-packages (from pandas->CompStats==0.1.6) (2025.1)\n",
            "Requirement already satisfied: contourpy>=1.0.1 in /usr/local/lib/python3.11/dist-packages (from matplotlib!=3.6.1,>=3.4->seaborn>=0.13.0->CompStats==0.1.6) (1.3.1)\n",
            "Requirement already satisfied: cycler>=0.10 in /usr/local/lib/python3.11/dist-packages (from matplotlib!=3.6.1,>=3.4->seaborn>=0.13.0->CompStats==0.1.6) (0.12.1)\n",
            "Requirement already satisfied: fonttools>=4.22.0 in /usr/local/lib/python3.11/dist-packages (from matplotlib!=3.6.1,>=3.4->seaborn>=0.13.0->CompStats==0.1.6) (4.56.0)\n",
            "Requirement already satisfied: kiwisolver>=1.3.1 in /usr/local/lib/python3.11/dist-packages (from matplotlib!=3.6.1,>=3.4->seaborn>=0.13.0->CompStats==0.1.6) (1.4.8)\n",
            "Requirement already satisfied: packaging>=20.0 in /usr/local/lib/python3.11/dist-packages (from matplotlib!=3.6.1,>=3.4->seaborn>=0.13.0->CompStats==0.1.6) (24.2)\n",
            "Requirement already satisfied: pillow>=8 in /usr/local/lib/python3.11/dist-packages (from matplotlib!=3.6.1,>=3.4->seaborn>=0.13.0->CompStats==0.1.6) (11.1.0)\n",
            "Requirement already satisfied: pyparsing>=2.3.1 in /usr/local/lib/python3.11/dist-packages (from matplotlib!=3.6.1,>=3.4->seaborn>=0.13.0->CompStats==0.1.6) (3.2.1)\n",
            "Requirement already satisfied: six>=1.5 in /usr/local/lib/python3.11/dist-packages (from python-dateutil>=2.8.2->pandas->CompStats==0.1.6) (1.17.0)\n",
            "Building wheels for collected packages: CompStats\n",
            "  Building wheel for CompStats (pyproject.toml) ... \u001b[?25l\u001b[?25hdone\n",
            "  Created wheel for CompStats: filename=CompStats-0.1.6-py3-none-any.whl size=39606 sha256=9b0e0dcda958e7607006de68d599ef7ffbf692e8bf78c5da32dbf19cdacb2bab\n",
            "  Stored in directory: /tmp/pip-ephem-wheel-cache-auggsg4k/wheels/4f/d2/a1/8d1d30289bd99417ea947fc1e1f4587404d4e3a043b41f0289\n",
            "Successfully built CompStats\n",
            "Installing collected packages: CompStats\n",
            "Successfully installed CompStats-0.1.6\n"
          ]
        }
      ],
      "source": [
        "try:\n",
        "  import CompStats\n",
        "except ImportError:\n",
        "    !pip install Compstats\n",
        "    # !pip install -U git+https://github.com/INGEOTEC/CompStats@develop"
      ]
    },
    {
      "cell_type": "markdown",
      "source": [
        "# CompStats.metrics"
      ],
      "metadata": {
        "id": "uN4SNyGE3Fmh"
      }
    },
    {
      "cell_type": "markdown",
      "source": [
        "`CompStats.metrics` aims to facilitate performance measurement (with standard errors and confidence intervals) and statistical comparisons between algorithms on a single problem, wrapping the different scores and loss functions found on `metrics`.\n",
        "\n",
        "To illustrate the use of `CompStats.metrics`, the following snippets show an example. The instructions load the necessary libraries, including the one to obtain the problem (e.g., digits), three different classifiers, and the last line is the score used to measure the performance and compare the algorithm."
      ],
      "metadata": {
        "id": "ZyRCAFoJ3LzP"
      }
    },
    {
      "cell_type": "code",
      "source": [
        "from sklearn.svm import LinearSVC\n",
        "from sklearn.naive_bayes import GaussianNB\n",
        "from sklearn.ensemble import RandomForestClassifier\n",
        "from sklearn.datasets import load_digits\n",
        "from sklearn.model_selection import train_test_split\n",
        "from sklearn.base import clone\n",
        "from CompStats.metrics import f1_score"
      ],
      "metadata": {
        "id": "jEpd52Kq214r"
      },
      "execution_count": 4,
      "outputs": []
    },
    {
      "cell_type": "markdown",
      "source": [
        "The first step is to load the digits problem and split the dataset into training and validation sets. The second step is to estimate the parameters of a linear Support Vector Machine and predict the validation set's classes. The predictions are stored in the variable `hy`."
      ],
      "metadata": {
        "id": "TxaP-fJ23YvG"
      }
    },
    {
      "cell_type": "code",
      "source": [
        "X, y = load_digits(return_X_y=True)\n",
        "_ = train_test_split(X, y, test_size=0.3)\n",
        "X_train, X_val, y_train, y_val = _\n",
        "m = LinearSVC().fit(X_train, y_train)\n",
        "hy = m.predict(X_val)"
      ],
      "metadata": {
        "id": "JGJczaOW3WeK"
      },
      "execution_count": 5,
      "outputs": []
    },
    {
      "cell_type": "markdown",
      "source": [
        "Once the predictions are available, it is time to measure the algorithm's performance, as seen in the following code. It is essential to note that the API used in `metrics` is followed; the difference is that the function returns an instance with different methods that can be used to estimate different performance statistics and compare algorithms."
      ],
      "metadata": {
        "id": "wmFDblVe3eLm"
      }
    },
    {
      "cell_type": "code",
      "source": [
        "score = f1_score(y_val, hy, average='macro')\n",
        "score"
      ],
      "metadata": {
        "colab": {
          "base_uri": "https://localhost:8080/"
        },
        "id": "Al0u9ZPB3cSj",
        "outputId": "51c345bd-bb03-4469-f4f6-ed6399569539"
      },
      "execution_count": 6,
      "outputs": [
        {
          "output_type": "stream",
          "name": "stderr",
          "text": [
            "100%|██████████| 1/1 [00:11<00:00, 11.50s/it]\n"
          ]
        },
        {
          "output_type": "execute_result",
          "data": {
            "text/plain": [
              "<Perf(score_func=f1_score)>\n",
              "Statistic with its standard error (se)\n",
              "statistic (se)\n",
              "0.9332 (0.0113) <= alg-1"
            ]
          },
          "metadata": {},
          "execution_count": 6
        }
      ]
    },
    {
      "cell_type": "markdown",
      "source": [
        "The previous code shows the macro-f1 score and, in parenthesis, its standard error. The actual performance value is stored in the `Perf.statistic` function."
      ],
      "metadata": {
        "id": "OV5-SrTh3loq"
      }
    },
    {
      "cell_type": "code",
      "source": [
        "score.statistic"
      ],
      "metadata": {
        "colab": {
          "base_uri": "https://localhost:8080/"
        },
        "id": "Ye1HH4pn3jde",
        "outputId": "501c48e9-86fa-4095-85d8-9e68c8ebf39d"
      },
      "execution_count": 7,
      "outputs": [
        {
          "output_type": "execute_result",
          "data": {
            "text/plain": [
              "{'alg-1': 0.9332035615949114}"
            ]
          },
          "metadata": {},
          "execution_count": 7
        }
      ]
    },
    {
      "cell_type": "markdown",
      "source": [
        "Continuing with the example, let us assume that one wants to test another classifier on the same problem, in this case, a random forest, as can be seen in the following two lines. The second line predicts the validation set and sets it to the analysis."
      ],
      "metadata": {
        "id": "BZho0vEB3q9G"
      }
    },
    {
      "cell_type": "code",
      "source": [
        "ens = RandomForestClassifier().fit(X_train, y_train)\n",
        "score(ens.predict(X_val), name='Random Forest')"
      ],
      "metadata": {
        "colab": {
          "base_uri": "https://localhost:8080/"
        },
        "id": "vboh7N9B3pDr",
        "outputId": "d7449f7e-d9c1-43aa-abe0-826806df4281"
      },
      "execution_count": 8,
      "outputs": [
        {
          "output_type": "stream",
          "name": "stderr",
          "text": [
            "100%|██████████| 1/1 [00:01<00:00,  1.86s/it]\n"
          ]
        },
        {
          "output_type": "execute_result",
          "data": {
            "text/plain": [
              "<Perf(score_func=f1_score)>\n",
              "Statistic with its standard error (se)\n",
              "statistic (se)\n",
              "0.9756 (0.0061) <= Random Forest\n",
              "0.9332 (0.0113) <= alg-1"
            ]
          },
          "metadata": {},
          "execution_count": 8
        }
      ]
    },
    {
      "cell_type": "markdown",
      "source": [
        "Let us incorporate another prediction, now with the Naive Bayes classifier, as seen below."
      ],
      "metadata": {
        "id": "v2R8F5H73vuc"
      }
    },
    {
      "cell_type": "code",
      "source": [
        "nb = GaussianNB().fit(X_train, y_train)\n",
        "score(nb.predict(X_val), name='Naive Bayes')"
      ],
      "metadata": {
        "colab": {
          "base_uri": "https://localhost:8080/"
        },
        "id": "pVOaQb0T3tyN",
        "outputId": "15fbb215-d4e7-49c4-e56c-275aa1d59c1e"
      },
      "execution_count": 9,
      "outputs": [
        {
          "output_type": "stream",
          "name": "stderr",
          "text": [
            "100%|██████████| 1/1 [00:02<00:00,  2.00s/it]\n"
          ]
        },
        {
          "output_type": "execute_result",
          "data": {
            "text/plain": [
              "<Perf(score_func=f1_score)>\n",
              "Statistic with its standard error (se)\n",
              "statistic (se)\n",
              "0.9756 (0.0061) <= Random Forest\n",
              "0.9332 (0.0113) <= alg-1\n",
              "0.8198 (0.0144) <= Naive Bayes"
            ]
          },
          "metadata": {},
          "execution_count": 9
        }
      ]
    },
    {
      "cell_type": "markdown",
      "source": [
        "The final step is to compare the performance of the three classifiers, which can be done with the `Perf.difference` method, as seen next.  "
      ],
      "metadata": {
        "id": "VRqHiUXN32ZX"
      }
    },
    {
      "cell_type": "code",
      "source": [
        "diff = score.difference()\n",
        "diff"
      ],
      "metadata": {
        "colab": {
          "base_uri": "https://localhost:8080/"
        },
        "id": "XWAqUpYE3za2",
        "outputId": "d92c436a-6aa9-41f3-cb9d-582ba2068b98"
      },
      "execution_count": 10,
      "outputs": [
        {
          "output_type": "execute_result",
          "data": {
            "text/plain": [
              "<Difference>\n",
              "difference p-values w.r.t Random Forest\n",
              "0.0000 <= alg-1\n",
              "0.0000 <= Naive Bayes"
            ]
          },
          "metadata": {},
          "execution_count": 10
        }
      ]
    },
    {
      "cell_type": "markdown",
      "source": [
        "The class `CompStats.Difference` has the `CompStats.Difference.plot` method that can be used to depict the difference with respectto the best."
      ],
      "metadata": {
        "id": "NnFumtpc4BBC"
      }
    },
    {
      "cell_type": "code",
      "source": [
        "diff.plot()"
      ],
      "metadata": {
        "colab": {
          "base_uri": "https://localhost:8080/",
          "height": 547
        },
        "id": "Fai01O3q3-SN",
        "outputId": "e7e89ba8-ab89-4ab7-d518-ae284dca35d3"
      },
      "execution_count": 11,
      "outputs": [
        {
          "output_type": "execute_result",
          "data": {
            "text/plain": [
              "<seaborn.axisgrid.FacetGrid at 0x7d547e0facd0>"
            ]
          },
          "metadata": {},
          "execution_count": 11
        },
        {
          "output_type": "display_data",
          "data": {
            "text/plain": [
              "<Figure size 584.611x500 with 1 Axes>"
            ],
            "image/png": "[encoded data removed]"
          },
          "metadata": {}
        }
      ]
    },
    {
      "cell_type": "code",
      "source": [],
      "metadata": {
        "id": "ol6Yo4k_4FdR"
      },
      "execution_count": 11,
      "outputs": []
    }
  ]
}